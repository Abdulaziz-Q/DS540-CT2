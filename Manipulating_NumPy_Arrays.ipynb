{
  "nbformat": 4,
  "nbformat_minor": 0,
  "metadata": {
    "colab": {
      "name": "Manipulating NumPy Arrays.ipynb",
      "provenance": [],
      "collapsed_sections": []
    },
    "kernelspec": {
      "name": "python3",
      "display_name": "Python 3"
    }
  },
  "cells": [
    {
      "cell_type": "markdown",
      "metadata": {
        "id": "iO-6lwjvoJMf"
      },
      "source": [
        "# Manipulating NumPy Arrays\n",
        "\n",
        "## Table of contents\n",
        "* [Create and print a one-dimensional (1-D) with 20 numerical items](#a)\n",
        "* [Print the dimension of the array](#b) \n",
        "* [Print the array value for index equal 10](#c)\n",
        "* [Slice and print the array between 5 and 15 indexes. Include both of the arrays](#d)\n",
        "* [Print the data type of the array](#e)\n",
        "* [Make a copy of the array and print it](#f)\n",
        "* [Make a view of the array and print it](#g)\n",
        "* [Print the shape of the array](#h)\n",
        "* [Reshape the array and print it](#i)"
      ]
    },
    {
      "cell_type": "code",
      "metadata": {
        "id": "42fYzLQ1pyk2",
        "outputId": "42f4de73-91bb-4986-a000-35834fe7119d",
        "colab": {
          "base_uri": "https://localhost:8080/",
          "height": 34
        }
      },
      "source": [
        "def main():\n",
        "  print(\"Manipulating NumPy Arrays\")\n",
        "if __name__ == \"__main__\":\n",
        "  main()"
      ],
      "execution_count": 47,
      "outputs": [
        {
          "output_type": "stream",
          "text": [
            "Manipulating NumPy Arrays\n"
          ],
          "name": "stdout"
        }
      ]
    },
    {
      "cell_type": "markdown",
      "metadata": {
        "id": "qfwd606bo15I"
      },
      "source": [
        "<a id='a'></a>\n",
        "#### Create and print a one-dimensional (1-D) with 20 numerical items"
      ]
    },
    {
      "cell_type": "code",
      "metadata": {
        "id": "_E9frnbdrQxF",
        "outputId": "bacada15-0d2c-4b17-9861-2647148bd460",
        "colab": {
          "base_uri": "https://localhost:8080/",
          "height": 34
        }
      },
      "source": [
        "# importing NumPy library\n",
        "import numpy as np\n",
        "# Using arange() function to create a one dimension array \n",
        "one_d_array = np.arange(start=2,stop=41,step=2)\n",
        "print(\"One-dimension array of 20 elements: {}\".format(one_d_array))"
      ],
      "execution_count": 48,
      "outputs": [
        {
          "output_type": "stream",
          "text": [
            "One-dimension array of 20 elements: [ 2  4  6  8 10 12 14 16 18 20 22 24 26 28 30 32 34 36 38 40]\n"
          ],
          "name": "stdout"
        }
      ]
    },
    {
      "cell_type": "markdown",
      "metadata": {
        "id": "RiI7umXBu4JW"
      },
      "source": [
        "<a id='b'></a>\n",
        "#### Print the dimension of the array"
      ]
    },
    {
      "cell_type": "code",
      "metadata": {
        "id": "AeMffF-Lo7q2",
        "outputId": "dc5e1c29-5de1-42a1-f155-7349eeda7ffd",
        "colab": {
          "base_uri": "https://localhost:8080/",
          "height": 34
        }
      },
      "source": [
        "# ndim() function shows the number of dimension\n",
        "print(\"The dimension of the array is: {}\".format(np.ndim(one_d_array)))"
      ],
      "execution_count": 49,
      "outputs": [
        {
          "output_type": "stream",
          "text": [
            "The dimension of the array is: 1\n"
          ],
          "name": "stdout"
        }
      ]
    },
    {
      "cell_type": "markdown",
      "metadata": {
        "id": "Y4O8cTKEvki2"
      },
      "source": [
        "<a id='c'></a>\n",
        "Print the array value for index equal 10"
      ]
    },
    {
      "cell_type": "code",
      "metadata": {
        "id": "VyTUPdLAyB6i",
        "outputId": "fa3248aa-5996-4bca-a828-1dceeb55050a",
        "colab": {
          "base_uri": "https://localhost:8080/",
          "height": 34
        }
      },
      "source": [
        "print(\"Value in index 10 is: {}\".format(one_d_array[10]))"
      ],
      "execution_count": 50,
      "outputs": [
        {
          "output_type": "stream",
          "text": [
            "Value in index 10 is: 22\n"
          ],
          "name": "stdout"
        }
      ]
    },
    {
      "cell_type": "markdown",
      "metadata": {
        "id": "GQGg6zFdvk6T"
      },
      "source": [
        "<a id='d'></a>\n",
        "Slice and print the array between 5 and 15 indexes. Include both of the arrays\n"
      ]
    },
    {
      "cell_type": "code",
      "metadata": {
        "id": "uKdOb5DKywyp",
        "outputId": "1cb24104-51a0-4763-a450-8ae14ab72832",
        "colab": {
          "base_uri": "https://localhost:8080/",
          "height": 51
        }
      },
      "source": [
        "# indexes 5 and 15 included in the array\n",
        "sliced_array = one_d_array[5:16]\n",
        "print(\"The original array before slicing is: {}\".format(one_d_array))\n",
        "print(\"Sliced array from 5 to 15 indexes are: {}\".format(sliced_array))"
      ],
      "execution_count": 51,
      "outputs": [
        {
          "output_type": "stream",
          "text": [
            "The original array before slicing is: [ 2  4  6  8 10 12 14 16 18 20 22 24 26 28 30 32 34 36 38 40]\n",
            "Sliced array from 5 to 15 indexes are: [12 14 16 18 20 22 24 26 28 30 32]\n"
          ],
          "name": "stdout"
        }
      ]
    },
    {
      "cell_type": "markdown",
      "metadata": {
        "id": "fbgqHcY4vlNA"
      },
      "source": [
        "<a id='e'></a>\n",
        "Print the data type of the array\n"
      ]
    },
    {
      "cell_type": "code",
      "metadata": {
        "id": "aTIDiw9zy484",
        "outputId": "ec77545e-9889-45a0-d7e6-c3e4b9100eb4",
        "colab": {
          "base_uri": "https://localhost:8080/",
          "height": 51
        }
      },
      "source": [
        "# dtype() function shows the data type of the two arrays\n",
        "print(\"The data type of the original array is: {}\\nThe sliced array is: {}\".format(one_d_array.dtype,sliced_array.dtype))"
      ],
      "execution_count": 52,
      "outputs": [
        {
          "output_type": "stream",
          "text": [
            "The data type of the original array is: int64\n",
            "The sliced array is: int64\n"
          ],
          "name": "stdout"
        }
      ]
    },
    {
      "cell_type": "markdown",
      "metadata": {
        "id": "BXhadVn9vlEL"
      },
      "source": [
        "<a id='f'></a>\n",
        "Make a copy of the array and print it\n"
      ]
    },
    {
      "cell_type": "code",
      "metadata": {
        "id": "yottYnZry5gE",
        "outputId": "3cfad21c-c3e8-437c-b6f3-3217926bdea1",
        "colab": {
          "base_uri": "https://localhost:8080/",
          "height": 34
        }
      },
      "source": [
        "array_copy = one_d_array.copy()\n",
        "print(\"This is a copy array of the original array: {}\".format(array_copy))"
      ],
      "execution_count": 53,
      "outputs": [
        {
          "output_type": "stream",
          "text": [
            "This is a copy array of the original array: [ 2  4  6  8 10 12 14 16 18 20 22 24 26 28 30 32 34 36 38 40]\n"
          ],
          "name": "stdout"
        }
      ]
    },
    {
      "cell_type": "markdown",
      "metadata": {
        "id": "Blx7weEZvkxo"
      },
      "source": [
        "<a id='g'></a>\n",
        "Make a view of the array and print it\n"
      ]
    },
    {
      "cell_type": "code",
      "metadata": {
        "id": "ZTyTw1afy6RG",
        "outputId": "7e3d83e5-ce73-49b2-ac68-6e24b6aa5b84",
        "colab": {
          "base_uri": "https://localhost:8080/",
          "height": 34
        }
      },
      "source": [
        "array_view = one_d_array.view()\n",
        "print(\"This is a view array of the original array: {}\".format(array_view))"
      ],
      "execution_count": 54,
      "outputs": [
        {
          "output_type": "stream",
          "text": [
            "This is a view array of the original array: [ 2  4  6  8 10 12 14 16 18 20 22 24 26 28 30 32 34 36 38 40]\n"
          ],
          "name": "stdout"
        }
      ]
    },
    {
      "cell_type": "markdown",
      "metadata": {
        "id": "6FLECtklvn1U"
      },
      "source": [
        "<a id='h'></a>\n",
        "Print the shape of the array\n"
      ]
    },
    {
      "cell_type": "code",
      "metadata": {
        "id": "2JLIYSdEy64P",
        "outputId": "e1225f15-4ae8-4572-a028-6717242ea4f4",
        "colab": {
          "base_uri": "https://localhost:8080/",
          "height": 34
        }
      },
      "source": [
        "# shape() function shows the shape of the array\n",
        "print(\"The shape of the original array is: {}\".format(one_d_array.shape))"
      ],
      "execution_count": 55,
      "outputs": [
        {
          "output_type": "stream",
          "text": [
            "The shape of the original array is: (20,)\n"
          ],
          "name": "stdout"
        }
      ]
    },
    {
      "cell_type": "markdown",
      "metadata": {
        "id": "EL1m9vvmvjt9"
      },
      "source": [
        "<a id='i'></a>\n",
        "Reshape the array and print it"
      ]
    },
    {
      "cell_type": "code",
      "metadata": {
        "id": "CUPWoiKmv0Xm",
        "outputId": "05262d54-7a31-4960-fdc8-af86c67cddde",
        "colab": {
          "base_uri": "https://localhost:8080/",
          "height": 119
        }
      },
      "source": [
        "# reshape() funcion used to make a 5x4 array \n",
        "print(\"Reshaping the array into 5 rows and 4 columns: \\n{}\".format(one_d_array.reshape(5,4)))"
      ],
      "execution_count": 56,
      "outputs": [
        {
          "output_type": "stream",
          "text": [
            "Reshaping the array into 5 rows and 4 columns: \n",
            "[[ 2  4  6  8]\n",
            " [10 12 14 16]\n",
            " [18 20 22 24]\n",
            " [26 28 30 32]\n",
            " [34 36 38 40]]\n"
          ],
          "name": "stdout"
        }
      ]
    }
  ]
}